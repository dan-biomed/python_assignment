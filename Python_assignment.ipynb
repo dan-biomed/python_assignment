{
 "cells": [
  {
   "cell_type": "code",
   "execution_count": 1,
   "metadata": {
    "collapsed": true
   },
   "outputs": [],
   "source": [
    "import pandas as pd\n",
    "from Bio.Seq import Seq\n",
    "from Bio import SeqIO"
   ]
  },
  {
   "cell_type": "code",
   "execution_count": 2,
   "metadata": {
    "collapsed": true
   },
   "outputs": [],
   "source": [
    "# provided function 1\n",
    "def get_sequences_from_file(fasta_fn):\n",
    "    sequence_data_dict = {}\n",
    "    for record in SeqIO.parse(fasta_fn, \"fasta\"):\n",
    "        description = record.description.split()\n",
    "        species_name = description[1] + \" \" + description[2]\n",
    "        sequence_data_dict[species_name] = record.seq\n",
    "    return(sequence_data_dict)"
   ]
  },
  {
   "cell_type": "code",
   "execution_count": 3,
   "metadata": {
    "collapsed": true
   },
   "outputs": [],
   "source": [
    "# function 2, adapted from YouTube tutorial \"Translation from DNA to Protein. By Hong Qin\"\n",
    "def translate_function(string_nucleotides): \n",
    "    mito_table = CodonTable.unambiguous_dna_by_name[\"Vertebrate Mitochondrial\"] \n",
    "    aa_seq_string =\"\"\n",
    "    for i in range(0, len(string_nucleotides), 3):  \n",
    "        codon = string_nucleotides[i:i+3]   \n",
    "        aminoacid = mito_table.forward_table[codon] \n",
    "        aa_seq_string += aminoacid        \n",
    "    return(aa_seq_string)\n",
    "# works."
   ]
  },
  {
   "cell_type": "code",
   "execution_count": 4,
   "metadata": {
    "collapsed": true
   },
   "outputs": [],
   "source": [
    "# funtion 3, alternative function\n",
    "from Bio.Seq import Seq\n",
    "def alt_translate(alt_aa_seq):\n",
    "#Define your sequence to be translated\n",
    "    coding_dna = Seq(alt_aa_seq)\n",
    "    alt_aa_seq = coding_dna.translate(table=\"Vertebrate Mitochondrial\", to_stop=True)\n",
    "    return alt_aa_seq"
   ]
  },
  {
   "cell_type": "code",
   "execution_count": 5,
   "metadata": {
    "collapsed": true
   },
   "outputs": [],
   "source": [
    "# function 4, aa type and ratio (3 functions). \n",
    "# Loops over aa_seq to count what is defined as a charged amino acid. Same thing done for polar and hydrophobic\n",
    "# The final count, divided by total length, would be the ratio.\n",
    "def charged(aa_seq): \n",
    "    charged = ['R','K','D','E'] \n",
    "    count = 0 \n",
    "    for aa in aa_seq: \n",
    "        if aa in charged:\n",
    "            count += 1 \n",
    "    return(count/len(aa_seq)) \n",
    "\n",
    "def polar(aa_seq): \n",
    "    polar = ['Q','N','H','S','T','Y','C','M','W']\n",
    "    count = 0 \n",
    "    for aa in aa_seq: \n",
    "        if aa in polar:\n",
    "            count += 1 \n",
    "    return(count/len(aa_seq)) \n",
    "\n",
    "\n",
    "def hydrophobic(aa_seq): \n",
    "    hydrophobic = ['A','I','L','F','V','P','G']\n",
    "    count = 0 \n",
    "    for aa in aa_seq: \n",
    "        if aa in hydrophobic:\n",
    "            count += 1 \n",
    "    return(count/len(aa_seq)) "
   ]
  },
  {
   "cell_type": "code",
   "execution_count": 6,
   "metadata": {
    "collapsed": false
   },
   "outputs": [
    {
     "data": {
      "text/html": [
       "<div>\n",
       "<table border=\"1\" class=\"dataframe\">\n",
       "  <thead>\n",
       "    <tr style=\"text-align: right;\">\n",
       "      <th></th>\n",
       "      <th>species</th>\n",
       "      <th>mass</th>\n",
       "      <th>charged</th>\n",
       "      <th>polar</th>\n",
       "      <th>hydrophobic</th>\n",
       "    </tr>\n",
       "  </thead>\n",
       "  <tbody>\n",
       "    <tr>\n",
       "      <th>0</th>\n",
       "      <td>Ursus spelaeus</td>\n",
       "      <td>550.800</td>\n",
       "      <td>NaN</td>\n",
       "      <td>NaN</td>\n",
       "      <td>NaN</td>\n",
       "    </tr>\n",
       "    <tr>\n",
       "      <th>1</th>\n",
       "      <td>Ursus arctos</td>\n",
       "      <td>203.500</td>\n",
       "      <td>NaN</td>\n",
       "      <td>NaN</td>\n",
       "      <td>NaN</td>\n",
       "    </tr>\n",
       "    <tr>\n",
       "      <th>2</th>\n",
       "      <td>Ursus thibetanus</td>\n",
       "      <td>99.714</td>\n",
       "      <td>NaN</td>\n",
       "      <td>NaN</td>\n",
       "      <td>NaN</td>\n",
       "    </tr>\n",
       "    <tr>\n",
       "      <th>3</th>\n",
       "      <td>Melursus ursinus</td>\n",
       "      <td>100.030</td>\n",
       "      <td>NaN</td>\n",
       "      <td>NaN</td>\n",
       "      <td>NaN</td>\n",
       "    </tr>\n",
       "    <tr>\n",
       "      <th>4</th>\n",
       "      <td>Ursus americanus</td>\n",
       "      <td>110.560</td>\n",
       "      <td>NaN</td>\n",
       "      <td>NaN</td>\n",
       "      <td>NaN</td>\n",
       "    </tr>\n",
       "    <tr>\n",
       "      <th>5</th>\n",
       "      <td>Helarctos malayanus</td>\n",
       "      <td>47.020</td>\n",
       "      <td>NaN</td>\n",
       "      <td>NaN</td>\n",
       "      <td>NaN</td>\n",
       "    </tr>\n",
       "    <tr>\n",
       "      <th>6</th>\n",
       "      <td>Ailuropoda melanoleuca</td>\n",
       "      <td>118.200</td>\n",
       "      <td>NaN</td>\n",
       "      <td>NaN</td>\n",
       "      <td>NaN</td>\n",
       "    </tr>\n",
       "    <tr>\n",
       "      <th>7</th>\n",
       "      <td>Tremarctos ornatus</td>\n",
       "      <td>140.700</td>\n",
       "      <td>NaN</td>\n",
       "      <td>NaN</td>\n",
       "      <td>NaN</td>\n",
       "    </tr>\n",
       "    <tr>\n",
       "      <th>8</th>\n",
       "      <td>Ursus maritimus</td>\n",
       "      <td>425.100</td>\n",
       "      <td>NaN</td>\n",
       "      <td>NaN</td>\n",
       "      <td>NaN</td>\n",
       "    </tr>\n",
       "  </tbody>\n",
       "</table>\n",
       "</div>"
      ],
      "text/plain": [
       "                  species     mass  charged  polar  hydrophobic\n",
       "0          Ursus spelaeus  550.800      NaN    NaN          NaN\n",
       "1            Ursus arctos  203.500      NaN    NaN          NaN\n",
       "2        Ursus thibetanus   99.714      NaN    NaN          NaN\n",
       "3        Melursus ursinus  100.030      NaN    NaN          NaN\n",
       "4        Ursus americanus  110.560      NaN    NaN          NaN\n",
       "5     Helarctos malayanus   47.020      NaN    NaN          NaN\n",
       "6  Ailuropoda melanoleuca  118.200      NaN    NaN          NaN\n",
       "7      Tremarctos ornatus  140.700      NaN    NaN          NaN\n",
       "8         Ursus maritimus  425.100      NaN    NaN          NaN"
      ]
     },
     "execution_count": 6,
     "metadata": {},
     "output_type": "execute_result"
    }
   ],
   "source": [
    "########\n",
    "# MAIN\n",
    "\n",
    "# this is to create the dictionary of parse extracted names and sequences\n",
    "cytb_seqs = get_sequences_from_file(\"bears_cytb.fasta\") \n",
    "bear_df = pd.read_csv(\"bears_data.csv\") \n",
    "species_list = list(bear_df.species)\n",
    "# these should be fine. \n",
    "bear_df\n"
   ]
  },
  {
   "cell_type": "code",
   "execution_count": 10,
   "metadata": {
    "collapsed": false
   },
   "outputs": [
    {
     "data": {
      "text/html": [
       "<div>\n",
       "<table border=\"1\" class=\"dataframe\">\n",
       "  <thead>\n",
       "    <tr style=\"text-align: right;\">\n",
       "      <th></th>\n",
       "      <th>species</th>\n",
       "      <th>mass</th>\n",
       "      <th>charged</th>\n",
       "      <th>polar</th>\n",
       "      <th>hydrophobic</th>\n",
       "    </tr>\n",
       "  </thead>\n",
       "  <tbody>\n",
       "    <tr>\n",
       "      <th>0</th>\n",
       "      <td>Ursus spelaeus</td>\n",
       "      <td>550.800</td>\n",
       "      <td>0.092348</td>\n",
       "      <td>0.329815</td>\n",
       "      <td>0.577836</td>\n",
       "    </tr>\n",
       "    <tr>\n",
       "      <th>1</th>\n",
       "      <td>Ursus arctos</td>\n",
       "      <td>203.500</td>\n",
       "      <td>0.092348</td>\n",
       "      <td>0.324538</td>\n",
       "      <td>0.583113</td>\n",
       "    </tr>\n",
       "    <tr>\n",
       "      <th>2</th>\n",
       "      <td>Ursus thibetanus</td>\n",
       "      <td>99.714</td>\n",
       "      <td>0.092348</td>\n",
       "      <td>0.327177</td>\n",
       "      <td>0.580475</td>\n",
       "    </tr>\n",
       "    <tr>\n",
       "      <th>3</th>\n",
       "      <td>Melursus ursinus</td>\n",
       "      <td>100.030</td>\n",
       "      <td>0.089710</td>\n",
       "      <td>0.340369</td>\n",
       "      <td>0.569921</td>\n",
       "    </tr>\n",
       "    <tr>\n",
       "      <th>4</th>\n",
       "      <td>Ursus americanus</td>\n",
       "      <td>110.560</td>\n",
       "      <td>0.089710</td>\n",
       "      <td>0.337731</td>\n",
       "      <td>0.572559</td>\n",
       "    </tr>\n",
       "    <tr>\n",
       "      <th>5</th>\n",
       "      <td>Helarctos malayanus</td>\n",
       "      <td>47.020</td>\n",
       "      <td>0.092348</td>\n",
       "      <td>0.340369</td>\n",
       "      <td>0.567282</td>\n",
       "    </tr>\n",
       "    <tr>\n",
       "      <th>6</th>\n",
       "      <td>Ailuropoda melanoleuca</td>\n",
       "      <td>118.200</td>\n",
       "      <td>0.089710</td>\n",
       "      <td>0.343008</td>\n",
       "      <td>0.567282</td>\n",
       "    </tr>\n",
       "    <tr>\n",
       "      <th>7</th>\n",
       "      <td>Tremarctos ornatus</td>\n",
       "      <td>140.700</td>\n",
       "      <td>0.089710</td>\n",
       "      <td>0.335092</td>\n",
       "      <td>0.575198</td>\n",
       "    </tr>\n",
       "    <tr>\n",
       "      <th>8</th>\n",
       "      <td>Ursus maritimus</td>\n",
       "      <td>425.100</td>\n",
       "      <td>0.092348</td>\n",
       "      <td>0.327177</td>\n",
       "      <td>0.580475</td>\n",
       "    </tr>\n",
       "  </tbody>\n",
       "</table>\n",
       "</div>"
      ],
      "text/plain": [
       "                  species     mass   charged     polar  hydrophobic\n",
       "0          Ursus spelaeus  550.800  0.092348  0.329815     0.577836\n",
       "1            Ursus arctos  203.500  0.092348  0.324538     0.583113\n",
       "2        Ursus thibetanus   99.714  0.092348  0.327177     0.580475\n",
       "3        Melursus ursinus  100.030  0.089710  0.340369     0.569921\n",
       "4        Ursus americanus  110.560  0.089710  0.337731     0.572559\n",
       "5     Helarctos malayanus   47.020  0.092348  0.340369     0.567282\n",
       "6  Ailuropoda melanoleuca  118.200  0.089710  0.343008     0.567282\n",
       "7      Tremarctos ornatus  140.700  0.089710  0.335092     0.575198\n",
       "8         Ursus maritimus  425.100  0.092348  0.327177     0.580475"
      ]
     },
     "execution_count": 10,
     "metadata": {},
     "output_type": "execute_result"
    }
   ],
   "source": [
    "# resetting the counter\n",
    "row_counter = 0\n",
    "# for each key and value (species name and seq) in the cytochrome B dictionary, \n",
    "# use my alternative translate function to get proportion of aa type (charged, polar, or hydrophobic). \n",
    "# The function needs to take string as input.\n",
    "for key,value in cytb_seqs.items(): \n",
    "    aa_seq = alt_translate(str(value)) \n",
    "    charged_aa = charged(aa_seq)\n",
    "    polar_aa = polar(aa_seq)\n",
    "    hydrophobic_aa = hydrophobic(aa_seq)\n",
    "    # set the value for each proportion in the dataframe. The for loop iterates over rows one at a time\n",
    "    bear_df.set_value(row_counter, 'charged', charged_aa) \n",
    "    bear_df.set_value(row_counter, 'polar', polar_aa) \n",
    "    bear_df.set_value(row_counter, 'hydrophobic', hydrophobic_aa)\n",
    "    row_counter = row_counter + 1 \n",
    "bear_df"
   ]
  },
  {
   "cell_type": "code",
   "execution_count": 8,
   "metadata": {
    "collapsed": false
   },
   "outputs": [
    {
     "data": {
      "text/plain": [
       "(array([0, 1, 2, 3, 4, 5, 6, 7, 8]), <a list of 9 Text xticklabel objects>)"
      ]
     },
     "execution_count": 8,
     "metadata": {},
     "output_type": "execute_result"
    },
    {
     "data": {
      "image/png": "[encoded data removed]",
      "text/plain": [
       "<matplotlib.figure.Figure at 0x22bbe8fc940>"
      ]
     },
     "metadata": {},
     "output_type": "display_data"
    }
   ],
   "source": [
    "# import the matplotlib magic function. Apparently there are so many magic functions!\n",
    "%matplotlib inline\n",
    "import seaborn as sea\n",
    "import matplotlib.pyplot as plt\n",
    "sea.barplot(x='species', y='mass', data=bear_df)\n",
    "plt.xticks(rotation=45)\n",
    "#to rotate labels so I can actually see: http://stackoverflow.com/questions/26540035/rotate-label-text-in-seaborn-factorplot\n",
    "\n",
    "# The biggest bear was the U. spelaeus, which was over 500 kgs average. The composition of aa types are not very different across species. Although, as a biologist, I'd think that there could be real differences in the hydrophobic aa between the highest and lowest proportions, however small. I didn't expect that there is 1.6% difference between H. malayanus and U. arctos, but I suspect that if we compared across more genes this differences would be less.\n",
    "# What else is interesting about this bear? This seems like an open-ended question, so I'll just say that apparently it was discovered in Italy that Neanderthals used to worship these cave bears.\n"
   ]
  },
  {
   "cell_type": "code",
   "execution_count": 9,
   "metadata": {
    "collapsed": false
   },
   "outputs": [
    {
     "data": {
      "image/png": "[encoded data removed]",
      "text/plain": [
       "<matplotlib.figure.Figure at 0x22bbede67b8>"
      ]
     },
     "metadata": {},
     "output_type": "display_data"
    }
   ],
   "source": [
    "# there is an example to exactly this: http://matplotlib.org/examples/pylab_examples/bar_stacked.html\n",
    "import numpy as np\n",
    "import matplotlib.pyplot as plt\n",
    "# the independent variable goes on x axis, and I changed the color so the plot doesn't look like a Christmas tree. Two of the parts needs to be sent to the bottom, otherwise the plot doesn't show.\n",
    "ind = np.arange(len(bear_df))\n",
    "width = 0.5\n",
    "p1 = plt.bar(ind, bear_df.charged, width, color=\"#8eff1c\") \n",
    "p2 = plt.bar(ind, bear_df.polar, width, bottom=bear_df.charged, color=\"#ff8e1c\")\n",
    "p3 = plt.bar(ind, bear_df.hydrophobic, width, bottom=bear_df.charged + bear_df.polar, color='#0000cf')\n",
    "plt.ylabel('Amino acid types-charged, polar, hydrophobic')\n",
    "plt.xlabel('Bear Species')\n",
    "plt.xticks(ind, (bear_df.species), rotation=45)\n",
    "plt.show()"
   ]
  },
  {
   "cell_type": "code",
   "execution_count": null,
   "metadata": {
    "collapsed": true
   },
   "outputs": [],
   "source": [
    "#exporting file to CSV\n",
    "bear_df.to_csv('bears_mass_cytb.csv')"
   ]
  }
 ],
 "metadata": {
  "kernelspec": {
   "display_name": "Python 3",
   "language": "python",
   "name": "python3"
  },
  "language_info": {
   "codemirror_mode": {
    "name": "ipython",
    "version": 3
   },
   "file_extension": ".py",
   "mimetype": "text/x-python",
   "name": "python",
   "nbconvert_exporter": "python",
   "pygments_lexer": "ipython3",
   "version": "3.6.0"
  }
 },
 "nbformat": 4,
 "nbformat_minor": 2
}
